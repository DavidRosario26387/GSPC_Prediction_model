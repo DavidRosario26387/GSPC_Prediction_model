{
 "cells": [
  {
   "cell_type": "code",
   "execution_count": 21,
   "id": "f66eac20-f0b2-46ec-b8c3-37f881d7c9a4",
   "metadata": {},
   "outputs": [
    {
     "name": "stdout",
     "output_type": "stream",
     "text": [
      "Requirement already satisfied: yfinance in c:\\users\\admin\\anaconda3\\lib\\site-packages (0.2.43)\n",
      "Requirement already satisfied: pandas>=1.3.0 in c:\\users\\admin\\anaconda3\\lib\\site-packages (from yfinance) (2.1.4)\n",
      "Requirement already satisfied: numpy>=1.16.5 in c:\\users\\admin\\anaconda3\\lib\\site-packages (from yfinance) (1.26.4)\n",
      "Requirement already satisfied: requests>=2.31 in c:\\users\\admin\\anaconda3\\lib\\site-packages (from yfinance) (2.31.0)\n",
      "Requirement already satisfied: multitasking>=0.0.7 in c:\\users\\admin\\anaconda3\\lib\\site-packages (from yfinance) (0.0.11)\n",
      "Requirement already satisfied: lxml>=4.9.1 in c:\\users\\admin\\anaconda3\\lib\\site-packages (from yfinance) (4.9.3)\n",
      "Requirement already satisfied: platformdirs>=2.0.0 in c:\\users\\admin\\anaconda3\\lib\\site-packages (from yfinance) (3.10.0)\n",
      "Requirement already satisfied: pytz>=2022.5 in c:\\users\\admin\\anaconda3\\lib\\site-packages (from yfinance) (2023.3.post1)\n",
      "Requirement already satisfied: frozendict>=2.3.4 in c:\\users\\admin\\anaconda3\\lib\\site-packages (from yfinance) (2.4.4)\n",
      "Requirement already satisfied: peewee>=3.16.2 in c:\\users\\admin\\anaconda3\\lib\\site-packages (from yfinance) (3.17.6)\n",
      "Requirement already satisfied: beautifulsoup4>=4.11.1 in c:\\users\\admin\\anaconda3\\lib\\site-packages (from yfinance) (4.12.2)\n",
      "Requirement already satisfied: html5lib>=1.1 in c:\\users\\admin\\anaconda3\\lib\\site-packages (from yfinance) (1.1)\n",
      "Requirement already satisfied: soupsieve>1.2 in c:\\users\\admin\\anaconda3\\lib\\site-packages (from beautifulsoup4>=4.11.1->yfinance) (2.5)\n",
      "Requirement already satisfied: six>=1.9 in c:\\users\\admin\\anaconda3\\lib\\site-packages (from html5lib>=1.1->yfinance) (1.16.0)\n",
      "Requirement already satisfied: webencodings in c:\\users\\admin\\anaconda3\\lib\\site-packages (from html5lib>=1.1->yfinance) (0.5.1)\n",
      "Requirement already satisfied: python-dateutil>=2.8.2 in c:\\users\\admin\\anaconda3\\lib\\site-packages (from pandas>=1.3.0->yfinance) (2.8.2)\n",
      "Requirement already satisfied: tzdata>=2022.1 in c:\\users\\admin\\anaconda3\\lib\\site-packages (from pandas>=1.3.0->yfinance) (2023.3)\n",
      "Requirement already satisfied: charset-normalizer<4,>=2 in c:\\users\\admin\\anaconda3\\lib\\site-packages (from requests>=2.31->yfinance) (2.0.4)\n",
      "Requirement already satisfied: idna<4,>=2.5 in c:\\users\\admin\\anaconda3\\lib\\site-packages (from requests>=2.31->yfinance) (3.4)\n",
      "Requirement already satisfied: urllib3<3,>=1.21.1 in c:\\users\\admin\\anaconda3\\lib\\site-packages (from requests>=2.31->yfinance) (2.0.7)\n",
      "Requirement already satisfied: certifi>=2017.4.17 in c:\\users\\admin\\anaconda3\\lib\\site-packages (from requests>=2.31->yfinance) (2024.2.2)\n"
     ]
    }
   ],
   "source": [
    "!pip install yfinance"
   ]
  },
  {
   "cell_type": "code",
   "execution_count": 75,
   "id": "5ae9dfe3-2996-4185-a90c-f22cfd7f456d",
   "metadata": {},
   "outputs": [],
   "source": [
    "import yfinance as yf"
   ]
  },
  {
   "cell_type": "code",
   "execution_count": 76,
   "id": "8a0f05c3-862b-41b2-b095-5b4e238273d3",
   "metadata": {},
   "outputs": [],
   "source": [
    "sp500=yf.Ticker('^GSPC')"
   ]
  },
  {
   "cell_type": "code",
   "execution_count": 77,
   "id": "bfd5c08d-a166-4a4d-9f3b-7f704d089f29",
   "metadata": {},
   "outputs": [],
   "source": [
    "sp500=sp500.history(period='max')"
   ]
  },
  {
   "cell_type": "code",
   "execution_count": 78,
   "id": "f44f4aeb-59c6-4b07-8dc1-5582fd1b198c",
   "metadata": {},
   "outputs": [
    {
     "data": {
      "text/html": [
       "<div>\n",
       "<style scoped>\n",
       "    .dataframe tbody tr th:only-of-type {\n",
       "        vertical-align: middle;\n",
       "    }\n",
       "\n",
       "    .dataframe tbody tr th {\n",
       "        vertical-align: top;\n",
       "    }\n",
       "\n",
       "    .dataframe thead th {\n",
       "        text-align: right;\n",
       "    }\n",
       "</style>\n",
       "<table border=\"1\" class=\"dataframe\">\n",
       "  <thead>\n",
       "    <tr style=\"text-align: right;\">\n",
       "      <th></th>\n",
       "      <th>Open</th>\n",
       "      <th>High</th>\n",
       "      <th>Low</th>\n",
       "      <th>Close</th>\n",
       "      <th>Volume</th>\n",
       "      <th>Dividends</th>\n",
       "      <th>Stock Splits</th>\n",
       "    </tr>\n",
       "    <tr>\n",
       "      <th>Date</th>\n",
       "      <th></th>\n",
       "      <th></th>\n",
       "      <th></th>\n",
       "      <th></th>\n",
       "      <th></th>\n",
       "      <th></th>\n",
       "      <th></th>\n",
       "    </tr>\n",
       "  </thead>\n",
       "  <tbody>\n",
       "    <tr>\n",
       "      <th>2024-08-21 00:00:00-04:00</th>\n",
       "      <td>5603.089844</td>\n",
       "      <td>5632.680176</td>\n",
       "      <td>5591.569824</td>\n",
       "      <td>5620.850098</td>\n",
       "      <td>3119670000</td>\n",
       "      <td>0.0</td>\n",
       "      <td>0.0</td>\n",
       "    </tr>\n",
       "    <tr>\n",
       "      <th>2024-08-22 00:00:00-04:00</th>\n",
       "      <td>5637.770020</td>\n",
       "      <td>5643.220215</td>\n",
       "      <td>5560.950195</td>\n",
       "      <td>5570.640137</td>\n",
       "      <td>2981530000</td>\n",
       "      <td>0.0</td>\n",
       "      <td>0.0</td>\n",
       "    </tr>\n",
       "    <tr>\n",
       "      <th>2024-08-23 00:00:00-04:00</th>\n",
       "      <td>5602.490234</td>\n",
       "      <td>5641.819824</td>\n",
       "      <td>5585.160156</td>\n",
       "      <td>5634.609863</td>\n",
       "      <td>3291940000</td>\n",
       "      <td>0.0</td>\n",
       "      <td>0.0</td>\n",
       "    </tr>\n",
       "    <tr>\n",
       "      <th>2024-08-26 00:00:00-04:00</th>\n",
       "      <td>5639.660156</td>\n",
       "      <td>5651.620117</td>\n",
       "      <td>5602.339844</td>\n",
       "      <td>5616.839844</td>\n",
       "      <td>2938570000</td>\n",
       "      <td>0.0</td>\n",
       "      <td>0.0</td>\n",
       "    </tr>\n",
       "    <tr>\n",
       "      <th>2024-08-27 00:00:00-04:00</th>\n",
       "      <td>5602.890137</td>\n",
       "      <td>5631.180176</td>\n",
       "      <td>5593.479980</td>\n",
       "      <td>5617.120117</td>\n",
       "      <td>806009450</td>\n",
       "      <td>0.0</td>\n",
       "      <td>0.0</td>\n",
       "    </tr>\n",
       "  </tbody>\n",
       "</table>\n",
       "</div>"
      ],
      "text/plain": [
       "                                  Open         High          Low        Close  \\\n",
       "Date                                                                            \n",
       "2024-08-21 00:00:00-04:00  5603.089844  5632.680176  5591.569824  5620.850098   \n",
       "2024-08-22 00:00:00-04:00  5637.770020  5643.220215  5560.950195  5570.640137   \n",
       "2024-08-23 00:00:00-04:00  5602.490234  5641.819824  5585.160156  5634.609863   \n",
       "2024-08-26 00:00:00-04:00  5639.660156  5651.620117  5602.339844  5616.839844   \n",
       "2024-08-27 00:00:00-04:00  5602.890137  5631.180176  5593.479980  5617.120117   \n",
       "\n",
       "                               Volume  Dividends  Stock Splits  \n",
       "Date                                                            \n",
       "2024-08-21 00:00:00-04:00  3119670000        0.0           0.0  \n",
       "2024-08-22 00:00:00-04:00  2981530000        0.0           0.0  \n",
       "2024-08-23 00:00:00-04:00  3291940000        0.0           0.0  \n",
       "2024-08-26 00:00:00-04:00  2938570000        0.0           0.0  \n",
       "2024-08-27 00:00:00-04:00   806009450        0.0           0.0  "
      ]
     },
     "execution_count": 78,
     "metadata": {},
     "output_type": "execute_result"
    }
   ],
   "source": [
    "sp500.tail()"
   ]
  },
  {
   "cell_type": "code",
   "execution_count": 79,
   "id": "6f64d42d-7918-4dde-ae4a-c83e8e35bb5e",
   "metadata": {},
   "outputs": [
    {
     "data": {
      "text/plain": [
       "DatetimeIndex(['1927-12-30 00:00:00-05:00', '1928-01-03 00:00:00-05:00',\n",
       "               '1928-01-04 00:00:00-05:00', '1928-01-05 00:00:00-05:00',\n",
       "               '1928-01-06 00:00:00-05:00', '1928-01-09 00:00:00-05:00',\n",
       "               '1928-01-10 00:00:00-05:00', '1928-01-11 00:00:00-05:00',\n",
       "               '1928-01-12 00:00:00-05:00', '1928-01-13 00:00:00-05:00',\n",
       "               ...\n",
       "               '2024-08-14 00:00:00-04:00', '2024-08-15 00:00:00-04:00',\n",
       "               '2024-08-16 00:00:00-04:00', '2024-08-19 00:00:00-04:00',\n",
       "               '2024-08-20 00:00:00-04:00', '2024-08-21 00:00:00-04:00',\n",
       "               '2024-08-22 00:00:00-04:00', '2024-08-23 00:00:00-04:00',\n",
       "               '2024-08-26 00:00:00-04:00', '2024-08-27 00:00:00-04:00'],\n",
       "              dtype='datetime64[ns, America/New_York]', name='Date', length=24280, freq=None)"
      ]
     },
     "execution_count": 79,
     "metadata": {},
     "output_type": "execute_result"
    }
   ],
   "source": [
    "sp500.index"
   ]
  },
  {
   "cell_type": "code",
   "execution_count": 80,
   "id": "cfefb941-bd3e-4fee-91fb-e5edf66c5336",
   "metadata": {},
   "outputs": [
    {
     "data": {
      "text/plain": [
       "<Axes: xlabel='Date'>"
      ]
     },
     "execution_count": 80,
     "metadata": {},
     "output_type": "execute_result"
    },
    {
     "data": {
      "image/png": "[encoded data removed]",
      "text/plain": [
       "<Figure size 640x480 with 1 Axes>"
      ]
     },
     "metadata": {},
     "output_type": "display_data"
    }
   ],
   "source": [
    "sp500.iloc[:].plot(y='Close',use_index=True)"
   ]
  },
  {
   "cell_type": "code",
   "execution_count": 81,
   "id": "8e261753-3fc3-4e48-a78c-58fd9365d9d8",
   "metadata": {},
   "outputs": [],
   "source": [
    "sp500=sp500.drop(columns=['Dividends','Stock Splits'])"
   ]
  },
  {
   "cell_type": "code",
   "execution_count": 82,
   "id": "79154d68-ccbd-457f-98bb-5d8fc2bedb65",
   "metadata": {},
   "outputs": [],
   "source": [
    "sp500['Tomorrow']=sp500['Close'].shift(-1)"
   ]
  },
  {
   "cell_type": "code",
   "execution_count": 83,
   "id": "38b7ba23-b32c-4e8e-be16-08e6a9800e6e",
   "metadata": {},
   "outputs": [],
   "source": [
    "sp500['Target']=(sp500['Tomorrow'] > sp500['Close']).astype(int)"
   ]
  },
  {
   "cell_type": "code",
   "execution_count": 84,
   "id": "f9f3642d-3fd4-4aaa-9039-aceb1509ee53",
   "metadata": {},
   "outputs": [],
   "source": [
    "sp500=sp500.loc['1990-01-01':].copy()"
   ]
  },
  {
   "cell_type": "code",
   "execution_count": 26,
   "id": "9fcfdb31-bc6f-4a8e-ac17-46374d165bc5",
   "metadata": {},
   "outputs": [
    {
     "data": {
      "text/html": [
       "<style>#sk-container-id-2 {color: black;background-color: white;}#sk-container-id-2 pre{padding: 0;}#sk-container-id-2 div.sk-toggleable {background-color: white;}#sk-container-id-2 label.sk-toggleable__label {cursor: pointer;display: block;width: 100%;margin-bottom: 0;padding: 0.3em;box-sizing: border-box;text-align: center;}#sk-container-id-2 label.sk-toggleable__label-arrow:before {content: \"▸\";float: left;margin-right: 0.25em;color: #696969;}#sk-container-id-2 label.sk-toggleable__label-arrow:hover:before {color: black;}#sk-container-id-2 div.sk-estimator:hover label.sk-toggleable__label-arrow:before {color: black;}#sk-container-id-2 div.sk-toggleable__content {max-height: 0;max-width: 0;overflow: hidden;text-align: left;background-color: #f0f8ff;}#sk-container-id-2 div.sk-toggleable__content pre {margin: 0.2em;color: black;border-radius: 0.25em;background-color: #f0f8ff;}#sk-container-id-2 input.sk-toggleable__control:checked~div.sk-toggleable__content {max-height: 200px;max-width: 100%;overflow: auto;}#sk-container-id-2 input.sk-toggleable__control:checked~label.sk-toggleable__label-arrow:before {content: \"▾\";}#sk-container-id-2 div.sk-estimator input.sk-toggleable__control:checked~label.sk-toggleable__label {background-color: #d4ebff;}#sk-container-id-2 div.sk-label input.sk-toggleable__control:checked~label.sk-toggleable__label {background-color: #d4ebff;}#sk-container-id-2 input.sk-hidden--visually {border: 0;clip: rect(1px 1px 1px 1px);clip: rect(1px, 1px, 1px, 1px);height: 1px;margin: -1px;overflow: hidden;padding: 0;position: absolute;width: 1px;}#sk-container-id-2 div.sk-estimator {font-family: monospace;background-color: #f0f8ff;border: 1px dotted black;border-radius: 0.25em;box-sizing: border-box;margin-bottom: 0.5em;}#sk-container-id-2 div.sk-estimator:hover {background-color: #d4ebff;}#sk-container-id-2 div.sk-parallel-item::after {content: \"\";width: 100%;border-bottom: 1px solid gray;flex-grow: 1;}#sk-container-id-2 div.sk-label:hover label.sk-toggleable__label {background-color: #d4ebff;}#sk-container-id-2 div.sk-serial::before {content: \"\";position: absolute;border-left: 1px solid gray;box-sizing: border-box;top: 0;bottom: 0;left: 50%;z-index: 0;}#sk-container-id-2 div.sk-serial {display: flex;flex-direction: column;align-items: center;background-color: white;padding-right: 0.2em;padding-left: 0.2em;position: relative;}#sk-container-id-2 div.sk-item {position: relative;z-index: 1;}#sk-container-id-2 div.sk-parallel {display: flex;align-items: stretch;justify-content: center;background-color: white;position: relative;}#sk-container-id-2 div.sk-item::before, #sk-container-id-2 div.sk-parallel-item::before {content: \"\";position: absolute;border-left: 1px solid gray;box-sizing: border-box;top: 0;bottom: 0;left: 50%;z-index: -1;}#sk-container-id-2 div.sk-parallel-item {display: flex;flex-direction: column;z-index: 1;position: relative;background-color: white;}#sk-container-id-2 div.sk-parallel-item:first-child::after {align-self: flex-end;width: 50%;}#sk-container-id-2 div.sk-parallel-item:last-child::after {align-self: flex-start;width: 50%;}#sk-container-id-2 div.sk-parallel-item:only-child::after {width: 0;}#sk-container-id-2 div.sk-dashed-wrapped {border: 1px dashed gray;margin: 0 0.4em 0.5em 0.4em;box-sizing: border-box;padding-bottom: 0.4em;background-color: white;}#sk-container-id-2 div.sk-label label {font-family: monospace;font-weight: bold;display: inline-block;line-height: 1.2em;}#sk-container-id-2 div.sk-label-container {text-align: center;}#sk-container-id-2 div.sk-container {/* jupyter's `normalize.less` sets `[hidden] { display: none; }` but bootstrap.min.css set `[hidden] { display: none !important; }` so we also need the `!important` here to be able to override the default hidden behavior on the sphinx rendered scikit-learn.org. See: https://github.com/scikit-learn/scikit-learn/issues/21755 */display: inline-block !important;position: relative;}#sk-container-id-2 div.sk-text-repr-fallback {display: none;}</style><div id=\"sk-container-id-2\" class=\"sk-top-container\"><div class=\"sk-text-repr-fallback\"><pre>RandomForestClassifier(min_samples_split=100, n_estimators=500, random_state=1)</pre><b>In a Jupyter environment, please rerun this cell to show the HTML representation or trust the notebook. <br />On GitHub, the HTML representation is unable to render, please try loading this page with nbviewer.org.</b></div><div class=\"sk-container\" hidden><div class=\"sk-item\"><div class=\"sk-estimator sk-toggleable\"><input class=\"sk-toggleable__control sk-hidden--visually\" id=\"sk-estimator-id-2\" type=\"checkbox\" checked><label for=\"sk-estimator-id-2\" class=\"sk-toggleable__label sk-toggleable__label-arrow\">RandomForestClassifier</label><div class=\"sk-toggleable__content\"><pre>RandomForestClassifier(min_samples_split=100, n_estimators=500, random_state=1)</pre></div></div></div></div></div>"
      ],
      "text/plain": [
       "RandomForestClassifier(min_samples_split=100, n_estimators=500, random_state=1)"
      ]
     },
     "execution_count": 26,
     "metadata": {},
     "output_type": "execute_result"
    }
   ],
   "source": [
    "from sklearn.ensemble import RandomForestClassifier\n",
    "\n",
    "model=RandomForestClassifier(n_estimators=500,min_samples_split=100,random_state=1)\n",
    "\n",
    "train=sp500.iloc[:-100]\n",
    "test=sp500.iloc[-100:]\n",
    "\n",
    "predictors=['Close','Volume','Open','High','Low']\n",
    "model.fit(train[predictors],train['Target'])\n"
   ]
  },
  {
   "cell_type": "code",
   "execution_count": 13,
   "id": "f0715250-b8bc-4320-bc0b-5a27e677aac8",
   "metadata": {},
   "outputs": [],
   "source": [
    "from sklearn.metrics import precision_score\n",
    "\n",
    "preds=model.predict(test[predictors])"
   ]
  },
  {
   "cell_type": "code",
   "execution_count": 14,
   "id": "3ee7750d-a556-4768-93d5-ac9369f9a735",
   "metadata": {},
   "outputs": [
    {
     "data": {
      "text/plain": [
       "0.5"
      ]
     },
     "execution_count": 14,
     "metadata": {},
     "output_type": "execute_result"
    }
   ],
   "source": [
    "import pandas as pd\n",
    "\n",
    "preds=pd.Series(preds,index=test.index)\n",
    "precision_score(test['Target'],preds)"
   ]
  },
  {
   "cell_type": "code",
   "execution_count": 15,
   "id": "ac2cf24d-cea3-4508-acee-84d0bc5f43cf",
   "metadata": {},
   "outputs": [
    {
     "data": {
      "text/plain": [
       "<Axes: xlabel='Date'>"
      ]
     },
     "execution_count": 15,
     "metadata": {},
     "output_type": "execute_result"
    },
    {
     "data": {
      "image/png": "[encoded data removed]",
      "text/plain": [
       "<Figure size 640x480 with 1 Axes>"
      ]
     },
     "metadata": {},
     "output_type": "display_data"
    }
   ],
   "source": [
    "combined=pd.concat([test['Target'],preds],axis=1)\n",
    "combined.plot()"
   ]
  },
  {
   "cell_type": "code",
   "execution_count": 85,
   "id": "12ff14bc-ea44-41f7-802d-6900b3465306",
   "metadata": {},
   "outputs": [],
   "source": [
    "def predict(train,test,predictors,model):\n",
    "\tmodel.fit(train[predictors],train['Target'])\n",
    "\tpreds=model.predict(test[predictors])\n",
    "\tpreds=pd.Series(preds,index=test.index,name='Predictions')\n",
    "\tcombined=pd.concat([test['Target'],preds],axis=1)\n",
    "\treturn combined"
   ]
  },
  {
   "cell_type": "code",
   "execution_count": 86,
   "id": "ce5ca732-aa05-4f62-89c4-92683061853a",
   "metadata": {},
   "outputs": [],
   "source": [
    "def backtest(data,model,predictors,start=2500,step=250):\n",
    "\tall_predictions=[]\n",
    "\tfor i in range(start,data.shape[0],step):\n",
    "\t\ttrain=data.iloc[0:i].copy()\n",
    "\t\ttest=data.iloc[i:(i+step)].copy()\n",
    "\t\tpredictions=predict(train,test,predictors,model)\n",
    "\t\tall_predictions.append(predictions)\n",
    "\treturn pd.concat(all_predictions)"
   ]
  },
  {
   "cell_type": "code",
   "execution_count": null,
   "id": "50d73650-569d-40b3-8394-4376fbe188f1",
   "metadata": {},
   "outputs": [],
   "source": [
    "predictions=backtest(sp500,model,predictors)"
   ]
  },
  {
   "cell_type": "code",
   "execution_count": null,
   "id": "7cd3757d-b00c-452d-9270-f45c0a129224",
   "metadata": {},
   "outputs": [],
   "source": [
    "predictions['Predictions'].value_counts()"
   ]
  },
  {
   "cell_type": "code",
   "execution_count": null,
   "id": "c0dc0c34-a02c-444c-a64f-e237afd08627",
   "metadata": {},
   "outputs": [],
   "source": [
    "precision_score(predictions['Target'],predictions['Predictions'])"
   ]
  },
  {
   "cell_type": "code",
   "execution_count": null,
   "id": "584c5a31-77b5-4bc3-aa76-d2061f2d972d",
   "metadata": {},
   "outputs": [],
   "source": [
    "predictions['Target'].value_counts() / predictions.shape[0]"
   ]
  },
  {
   "cell_type": "code",
   "execution_count": 87,
   "id": "e07ecb59-eb45-42ce-95bb-863f5ef8bac3",
   "metadata": {},
   "outputs": [],
   "source": [
    "horizons=[2,5,60,250,1000]\n",
    "new_predictors=[]\n",
    "\n",
    "for horizon in horizons:\n",
    "\trolling_averages=sp500.rolling(horizon).mean()\n",
    "\t\n",
    "\tratio_column=f'Close_Ratio_{horizon}'\n",
    "\tsp500[ratio_column]=sp500['Close'] / rolling_averages['Close']\n",
    "\t\n",
    "\tTrend_column=f'Trend_{horizon}'\n",
    "\tsp500[Trend_column]=sp500.shift(1).rolling(horizon).sum()['Target']\n",
    "\t\n",
    "\tnew_predictors+=[ratio_column,Trend_column]\n"
   ]
  },
  {
   "cell_type": "code",
   "execution_count": 88,
   "id": "8cf429ab-744a-48c7-8b2d-71bf9ba9e26d",
   "metadata": {},
   "outputs": [],
   "source": [
    "sp500=sp500.dropna()"
   ]
  },
  {
   "cell_type": "code",
   "execution_count": 89,
   "id": "7e239b67-31de-4a84-b694-21b8585318ad",
   "metadata": {},
   "outputs": [
    {
     "data": {
      "text/plain": [
       "(7729, 17)"
      ]
     },
     "execution_count": 89,
     "metadata": {},
     "output_type": "execute_result"
    }
   ],
   "source": [
    "sp500.shape"
   ]
  },
  {
   "cell_type": "code",
   "execution_count": 90,
   "id": "5471a530-d755-4a95-addc-d8f599d7b7bf",
   "metadata": {},
   "outputs": [],
   "source": [
    "from sklearn.ensemble import RandomForestClassifier\n",
    "\n",
    "model=RandomForestClassifier(n_estimators=200,min_samples_split=50,random_state=1)"
   ]
  },
  {
   "cell_type": "code",
   "execution_count": 91,
   "id": "ad9a747e-b832-498e-b5b8-36ca8b08c6bc",
   "metadata": {},
   "outputs": [],
   "source": [
    "def predict(train,test,predictors,model):\n",
    "\tmodel.fit(train[predictors],train['Target'])\n",
    "\tpreds=model.predict_proba(test[predictors])[:,1]\n",
    "\tpreds[preds>=.6]=1\n",
    "\tpreds[preds<.6]=0\n",
    "\tpreds=pd.Series(preds,index=test.index,name='Predictions')\n",
    "\tcombined=pd.concat([test['Target'],preds],axis=1)\n",
    "\treturn combined"
   ]
  },
  {
   "cell_type": "code",
   "execution_count": 93,
   "id": "33f12f40-b0ed-454e-b0ba-1496ec6c8697",
   "metadata": {},
   "outputs": [],
   "source": [
    "predictions=backtest(sp500,model,new_predictors)"
   ]
  },
  {
   "cell_type": "code",
   "execution_count": 94,
   "id": "00d4dd02-65d0-446c-9344-19d29dcb4757",
   "metadata": {},
   "outputs": [
    {
     "data": {
      "text/plain": [
       "Predictions\n",
       "0.0    4388\n",
       "1.0     841\n",
       "Name: count, dtype: int64"
      ]
     },
     "execution_count": 94,
     "metadata": {},
     "output_type": "execute_result"
    }
   ],
   "source": [
    "predictions['Predictions'].value_counts()"
   ]
  },
  {
   "cell_type": "code",
   "execution_count": 95,
   "id": "c718c591-30b6-4d64-87b5-172d678eca95",
   "metadata": {},
   "outputs": [
    {
     "data": {
      "text/plain": [
       "0.5743162901307967"
      ]
     },
     "execution_count": 95,
     "metadata": {},
     "output_type": "execute_result"
    }
   ],
   "source": [
    "precision_score(predictions['Target'],predictions['Predictions'])"
   ]
  },
  {
   "cell_type": "code",
   "execution_count": null,
   "id": "c98b3e17-6941-4b30-af29-f4c2849d5668",
   "metadata": {},
   "outputs": [],
   "source": []
  }
 ],
 "metadata": {
  "kernelspec": {
   "display_name": "Python 3 (ipykernel)",
   "language": "python",
   "name": "python3"
  },
  "language_info": {
   "codemirror_mode": {
    "name": "ipython",
    "version": 3
   },
   "file_extension": ".py",
   "mimetype": "text/x-python",
   "name": "python",
   "nbconvert_exporter": "python",
   "pygments_lexer": "ipython3",
   "version": "3.11.7"
  }
 },
 "nbformat": 4,
 "nbformat_minor": 5
}
